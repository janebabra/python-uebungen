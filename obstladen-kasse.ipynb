{
 "cells": [
  {
   "cell_type": "code",
   "execution_count": 37,
   "id": "7f08bf85",
   "metadata": {},
   "outputs": [
    {
     "name": "stdout",
     "output_type": "stream",
     "text": [
      "Kasse Obstladen\n",
      "---------------\n",
      "Wieviel Äpfel hätten Sie gerne: 1\n",
      "1 Äpfel sind jetzt im Warenkorb\n",
      "Wieviel Birnen hätten Sie gerne: 1\n",
      "1 Birnen sind jetzt im Warenkorb\n",
      "Wieviel Bananen hätten Sie gerne: 1\n",
      "1 Bananen sind jetzt im Warenkorb\n",
      "\n",
      "********************************\n",
      "zu zahlender Betrag:  2.20 Euro\n",
      "********************************\n",
      "\n",
      "Bitte Geld einzahlen: 2\n",
      "Bitte Geld einzahlen: 2.2\n",
      "Bitte Geld einzahlen: 2.8\n",
      "Ihr Rückgeld: 0.60 Euro\n"
     ]
    }
   ],
   "source": [
    "apfel_im_lager = 20\n",
    "birnen_im_lager = 10\n",
    "bananen_im_lager = 5\n",
    "\n",
    "bestell_apfel = 0\n",
    "bestell_birne = 0\n",
    "bestell_bananen = 0\n",
    "\n",
    "preis_apfel = 1.00\n",
    "preis_birne = 0.50\n",
    "preis_banane = 0.70\n",
    "\n",
    "summe = 0.0\n",
    "rueckgeld = 0.0\n",
    "geld = 0.0\n",
    "\n",
    "print('Kasse Obstladen')\n",
    "print('---------------')\n",
    "\n",
    "bestell_apfel = int(input('Wieviel Äpfel hätten Sie gerne: '))\n",
    "if bestell_apfel <= apfel_im_lager:\n",
    "    print(bestell_apfel, 'Äpfel sind jetzt im Warenkorb')\n",
    "else:\n",
    "    print('Tut mir leid, wir haben nicht mehr genug im Lager')\n",
    "\n",
    "bestell_birne = int(input('Wieviel Birnen hätten Sie gerne: '))\n",
    "if bestell_birne <= birnen_im_lager:\n",
    "    print(bestell_birne, 'Birnen sind jetzt im Warenkorb')\n",
    "else:\n",
    "    print('Tut mir leid, wir haben nicht mehr genug im Lager')\n",
    "\n",
    "bestell_bananen = int(input('Wieviel Bananen hätten Sie gerne: '))\n",
    "if bestell_bananen <= bananen_im_lager:\n",
    "    print(bestell_bananen, 'Bananen sind jetzt im Warenkorb')\n",
    "\n",
    "summe = (bestell_apfel * preis_apfel) + (bestell_birne * preis_birne) + (bestell_bananen * preis_banane)\n",
    "print()\n",
    "print('********************************')\n",
    "print('zu zahlender Betrag: ', \"%.2f\" % summe, 'Euro' )\n",
    "print('********************************')\n",
    "    \n",
    "print()\n",
    "while geld <= summe:\n",
    "    geld = float(input('Bitte Geld einzahlen: '))\n",
    "    rueckgeld = geld - summe\n",
    "    \n",
    "print('Ihr Rückgeld: '\"%.2f\" % rueckgeld, 'Euro')\n",
    "\n",
    "\n"
   ]
  },
  {
   "cell_type": "code",
   "execution_count": null,
   "id": "923df473",
   "metadata": {},
   "outputs": [],
   "source": []
  },
  {
   "cell_type": "code",
   "execution_count": null,
   "id": "129a6682",
   "metadata": {},
   "outputs": [],
   "source": []
  },
  {
   "cell_type": "code",
   "execution_count": null,
   "id": "8f20eb60",
   "metadata": {},
   "outputs": [],
   "source": []
  }
 ],
 "metadata": {
  "kernelspec": {
   "display_name": "Python 3 (ipykernel)",
   "language": "python",
   "name": "python3"
  },
  "language_info": {
   "codemirror_mode": {
    "name": "ipython",
    "version": 3
   },
   "file_extension": ".py",
   "mimetype": "text/x-python",
   "name": "python",
   "nbconvert_exporter": "python",
   "pygments_lexer": "ipython3",
   "version": "3.9.13"
  }
 },
 "nbformat": 4,
 "nbformat_minor": 5
}
